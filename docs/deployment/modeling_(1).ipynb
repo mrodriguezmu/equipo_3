{
  "cells": [
    {
      "cell_type": "code",
      "execution_count": 10,
      "metadata": {
        "id": "zi_rRlF2W3k-"
      },
      "outputs": [],
      "source": [
        "import pandas as pd\n",
        "import numpy as np\n",
        "from sklearn.model_selection import train_test_split, GridSearchCV\n",
        "from sklearn.preprocessing import StandardScaler, OneHotEncoder\n",
        "from sklearn.compose import ColumnTransformer\n",
        "from sklearn.ensemble import RandomForestClassifier, GradientBoostingClassifier\n",
        "from sklearn.linear_model import LogisticRegression\n",
        "from sklearn.svm import SVC\n",
        "from sklearn.neighbors import KNeighborsClassifier\n",
        "from sklearn.metrics import classification_report, roc_auc_score, f1_score, accuracy_score, precision_score, recall_score\n",
        "from sklearn.decomposition import PCA\n",
        "from sklearn.feature_selection import SelectKBest, f_classif\n"
      ]
    },
    {
      "cell_type": "code",
      "execution_count": 11,
      "metadata": {
        "colab": {
          "base_uri": "https://localhost:8080/"
        },
        "id": "u2kCzGHnn_9K",
        "outputId": "b384932a-32ed-40c4-cd12-aad611e2a61b"
      },
      "outputs": [
        {
          "output_type": "stream",
          "name": "stdout",
          "text": [
            "Requirement already satisfied: gdown in /usr/local/lib/python3.10/dist-packages (5.2.0)\n",
            "Requirement already satisfied: beautifulsoup4 in /usr/local/lib/python3.10/dist-packages (from gdown) (4.12.3)\n",
            "Requirement already satisfied: filelock in /usr/local/lib/python3.10/dist-packages (from gdown) (3.16.1)\n",
            "Requirement already satisfied: requests[socks] in /usr/local/lib/python3.10/dist-packages (from gdown) (2.32.3)\n",
            "Requirement already satisfied: tqdm in /usr/local/lib/python3.10/dist-packages (from gdown) (4.67.1)\n",
            "Requirement already satisfied: soupsieve>1.2 in /usr/local/lib/python3.10/dist-packages (from beautifulsoup4->gdown) (2.6)\n",
            "Requirement already satisfied: charset-normalizer<4,>=2 in /usr/local/lib/python3.10/dist-packages (from requests[socks]->gdown) (3.4.0)\n",
            "Requirement already satisfied: idna<4,>=2.5 in /usr/local/lib/python3.10/dist-packages (from requests[socks]->gdown) (3.10)\n",
            "Requirement already satisfied: urllib3<3,>=1.21.1 in /usr/local/lib/python3.10/dist-packages (from requests[socks]->gdown) (2.2.3)\n",
            "Requirement already satisfied: certifi>=2017.4.17 in /usr/local/lib/python3.10/dist-packages (from requests[socks]->gdown) (2024.12.14)\n",
            "Requirement already satisfied: PySocks!=1.5.7,>=1.5.6 in /usr/local/lib/python3.10/dist-packages (from requests[socks]->gdown) (1.7.1)\n"
          ]
        }
      ],
      "source": [
        "!pip install gdown"
      ]
    },
    {
      "cell_type": "code",
      "execution_count": 12,
      "metadata": {
        "colab": {
          "base_uri": "https://localhost:8080/",
          "height": 126
        },
        "id": "n-132biyoAma",
        "outputId": "f7251cbc-9117-4239-85ec-7269711e1abd"
      },
      "outputs": [
        {
          "output_type": "stream",
          "name": "stderr",
          "text": [
            "Downloading...\n",
            "From (original): https://drive.google.com/uc?id=1q7F9-9Pkz8nn14dBxSYUGsCWA4proIBN\n",
            "From (redirected): https://drive.google.com/uc?id=1q7F9-9Pkz8nn14dBxSYUGsCWA4proIBN&confirm=t&uuid=699f1cf7-6372-4af9-bdc0-0dd94e30011d\n",
            "To: /content/flights_preprocess.csv\n",
            "100%|██████████| 1.37G/1.37G [00:22<00:00, 59.7MB/s]\n"
          ]
        },
        {
          "output_type": "execute_result",
          "data": {
            "text/plain": [
              "'/content/flights_preprocess.csv'"
            ],
            "application/vnd.google.colaboratory.intrinsic+json": {
              "type": "string"
            }
          },
          "metadata": {},
          "execution_count": 12
        }
      ],
      "source": [
        "import gdown\n",
        "\n",
        "# ID del archivo de Google Drive\n",
        "file_id = '1q7F9-9Pkz8nn14dBxSYUGsCWA4proIBN'\n",
        "gdown.download(f'https://drive.google.com/uc?id={file_id}', '/content/flights_preprocess.csv', quiet=False)"
      ]
    },
    {
      "cell_type": "code",
      "execution_count": 13,
      "metadata": {
        "id": "9wr7402coEAZ"
      },
      "outputs": [],
      "source": [
        "# Llama a la base preprocesada\n",
        "data = pd.read_csv('/content/flights_preprocess.csv')\n",
        "\n"
      ]
    },
    {
      "cell_type": "code",
      "execution_count": 14,
      "metadata": {
        "id": "KC2OT8zYdg7k"
      },
      "outputs": [],
      "source": [
        "# debido al tamaño de los datos, con el objetivo de optimizar recursos, vamos a trabajar con una muestra\n",
        "\n",
        "data = data.sample(frac=0.1, random_state=42)"
      ]
    },
    {
      "cell_type": "code",
      "execution_count": 15,
      "metadata": {
        "id": "ZEs38-exduZu"
      },
      "outputs": [],
      "source": [
        "# definimos nuestras variables explicativas y objetivo (Arr_Delayed - si los vuelos se retrasaron o no)\n",
        "\n",
        "X = data.drop(columns=['Arr_Delayed', 'FlightDate'])\n",
        "y = data['Arr_Delayed']"
      ]
    },
    {
      "cell_type": "code",
      "execution_count": 16,
      "metadata": {
        "id": "DYxiCk3gepl8"
      },
      "outputs": [],
      "source": [
        "# Dividimos los datos en conjuntos de entrenamiento y prueba\n",
        "X_train, X_test, y_train, y_test = train_test_split(X, y, test_size=0.2, random_state=42)"
      ]
    },
    {
      "cell_type": "code",
      "execution_count": 17,
      "metadata": {
        "colab": {
          "base_uri": "https://localhost:8080/"
        },
        "id": "7kr4-UfzpJfE",
        "outputId": "37d22b25-2484-47a0-b00c-a6fea73a089b"
      },
      "outputs": [
        {
          "output_type": "stream",
          "name": "stderr",
          "text": [
            "/usr/local/lib/python3.10/dist-packages/sklearn/base.py:474: FutureWarning: `BaseEstimator._validate_data` is deprecated in 1.6 and will be removed in 1.7. Use `sklearn.utils.validation.validate_data` instead. This function becomes public and is part of the scikit-learn developer API.\n",
            "  warnings.warn(\n",
            "/usr/local/lib/python3.10/dist-packages/sklearn/utils/_tags.py:354: FutureWarning: The SMOTE or classes from which it inherits use `_get_tags` and `_more_tags`. Please define the `__sklearn_tags__` method, or inherit from `sklearn.base.BaseEstimator` and/or other appropriate mixins such as `sklearn.base.TransformerMixin`, `sklearn.base.ClassifierMixin`, `sklearn.base.RegressorMixin`, and `sklearn.base.OutlierMixin`. From scikit-learn 1.7, not defining `__sklearn_tags__` will raise an error.\n",
            "  warnings.warn(\n"
          ]
        }
      ],
      "source": [
        "# sabemos que existe un desbalanceo en las etiquetas (muy pocos vuelos llegan retrasados). Por ello, vamos a\n",
        "# balancear generando ejemplos sinteticos de vuelos atrasados por medio de SMOTE\n",
        "\n",
        "from imblearn.over_sampling import SMOTE\n",
        "\n",
        "smote = SMOTE(random_state=42)\n",
        "X_train, y_train = smote.fit_resample(X_train, y_train)"
      ]
    },
    {
      "cell_type": "code",
      "execution_count": 18,
      "metadata": {
        "colab": {
          "base_uri": "https://localhost:8080/"
        },
        "id": "ijimcz5BpbWm",
        "outputId": "c7187c08-fc80-4f35-c7ea-bbe2a3247b03"
      },
      "outputs": [
        {
          "output_type": "stream",
          "name": "stdout",
          "text": [
            "Arr_Delayed\n",
            "False    362250\n",
            "True     362250\n",
            "Name: count, dtype: int64\n"
          ]
        }
      ],
      "source": [
        "# verificamos\n",
        "\n",
        "print(pd.Series(y_train).value_counts())"
      ]
    },
    {
      "cell_type": "code",
      "execution_count": 19,
      "metadata": {
        "id": "q3mGibR9e7tG"
      },
      "outputs": [],
      "source": [
        "# vamos a reducir la dimensionalidad de nuestras caracteristicas por medio de componentes principales (PCA)\n",
        "\n",
        "pca = PCA(n_components= 3)\n",
        "X_train_pca = pca.fit_transform(X_train)\n",
        "X_test_pca = pca.transform(X_test)"
      ]
    },
    {
      "cell_type": "code",
      "execution_count": 20,
      "metadata": {
        "id": "GuYxaX0zo7LH"
      },
      "outputs": [],
      "source": [
        "# ahora vamos a entrenar distintos modelos. Nuestro baseline model va a ser una regresión logística, mientras que los demás modelos que entrenaremos serán:\n",
        "# Random Forest, Gradient Boosting, Support Vector Machine\n",
        "\n",
        "model_log = LogisticRegression(max_iter=1000).fit(X_train_pca, y_train)\n",
        "model_rf = RandomForestClassifier(random_state=42).fit(X_train_pca, y_train)\n"
      ]
    },
    {
      "cell_type": "code",
      "execution_count": 21,
      "metadata": {
        "id": "YK730PDU6r6v"
      },
      "outputs": [],
      "source": [
        "model_gb = GradientBoostingClassifier(random_state=42).fit(X_train_pca, y_train)"
      ]
    },
    {
      "cell_type": "code",
      "execution_count": 22,
      "metadata": {
        "id": "rtAi-xrJ9bcc"
      },
      "outputs": [],
      "source": [
        "# model_svm = SVC(random_state=42).fit(X_train_pca, y_train)"
      ]
    },
    {
      "cell_type": "code",
      "execution_count": 23,
      "metadata": {
        "id": "C74gtVVsvxCD"
      },
      "outputs": [],
      "source": [
        "# definimos una funcion para generar las métricas\n",
        "\n",
        "def metricas(model):\n",
        "    y_pred = model.predict(X_test_pca)\n",
        "    metrics = {\n",
        "        \"Model\": \"{}\".format(model),\n",
        "        \"Accuracy\": accuracy_score(y_test, y_pred),\n",
        "        \"F1 Score\": f1_score(y_test, y_pred),\n",
        "        \"Precision\": precision_score(y_test, y_pred),\n",
        "        \"Recall\": recall_score(y_test, y_pred)\n",
        "    }\n",
        "    return metrics"
      ]
    },
    {
      "cell_type": "code",
      "execution_count": 24,
      "metadata": {
        "id": "Z6MqFsfI-tN7"
      },
      "outputs": [],
      "source": [
        "# usemos la funcion con los distintos modelos y generemos una lista\n",
        "\n",
        "resultados = []\n",
        "metrica_log = metricas(model_log)\n",
        "metrica_rf = metricas(model_rf)\n",
        "metrica_gb = metricas(model_gb)\n",
        "#metrica_svm = metricas(model_svm)\n",
        "resultados.append(metrica_log)\n",
        "resultados.append(metrica_rf)\n",
        "resultados.append(metrica_gb)\n",
        "# resultados.append(metrica_svm)"
      ]
    },
    {
      "cell_type": "code",
      "execution_count": 25,
      "metadata": {
        "colab": {
          "base_uri": "https://localhost:8080/"
        },
        "id": "smoHEo259wtu",
        "outputId": "b0880911-d1b0-4e83-b060-5751856cf6c6"
      },
      "outputs": [
        {
          "output_type": "stream",
          "name": "stdout",
          "text": [
            "Comparación de Modelos: Accuracy\n",
            "                                         Model  Accuracy  F1 Score  Precision  \\\n",
            "1      RandomForestClassifier(random_state=42)  0.756662  0.396130   0.373940   \n",
            "0            LogisticRegression(max_iter=1000)  0.521569  0.273979   0.192294   \n",
            "2  GradientBoostingClassifier(random_state=42)  0.471270  0.301341   0.201011   \n",
            "\n",
            "     Recall  \n",
            "1  0.421120  \n",
            "0  0.476308  \n",
            "2  0.601627  \n"
          ]
        }
      ],
      "source": [
        "# vamos a comparar los modelos según las distintas metricas:\n",
        "\n",
        "resultados_df = pd.DataFrame(resultados)\n",
        "\n",
        "# por accuracy\n",
        "\n",
        "print(\"Comparación de Modelos: Accuracy\")\n",
        "print(resultados_df.sort_values(by=\"Accuracy\", ascending=False))"
      ]
    },
    {
      "cell_type": "code",
      "execution_count": 26,
      "metadata": {
        "colab": {
          "base_uri": "https://localhost:8080/"
        },
        "id": "Aokf7cE5_YnL",
        "outputId": "ff1e2ca5-8f5f-4241-d9a2-c51d12fac27c"
      },
      "outputs": [
        {
          "output_type": "stream",
          "name": "stdout",
          "text": [
            "Comparación de Modelos: F1 Score\n",
            "                                         Model  Accuracy  F1 Score  Precision  \\\n",
            "1      RandomForestClassifier(random_state=42)  0.756662  0.396130   0.373940   \n",
            "2  GradientBoostingClassifier(random_state=42)  0.471270  0.301341   0.201011   \n",
            "0            LogisticRegression(max_iter=1000)  0.521569  0.273979   0.192294   \n",
            "\n",
            "     Recall  \n",
            "1  0.421120  \n",
            "2  0.601627  \n",
            "0  0.476308  \n"
          ]
        }
      ],
      "source": [
        "# por F1 Score\n",
        "\n",
        "print(\"Comparación de Modelos: F1 Score\")\n",
        "print(resultados_df.sort_values(by=\"F1 Score\", ascending=False))"
      ]
    },
    {
      "cell_type": "code",
      "execution_count": 27,
      "metadata": {
        "colab": {
          "base_uri": "https://localhost:8080/"
        },
        "id": "HWYpJ24d_g6Z",
        "outputId": "05f06ea4-2dea-455d-c6d0-fe4d7e2043cc"
      },
      "outputs": [
        {
          "output_type": "stream",
          "name": "stdout",
          "text": [
            "Comparación de Modelos: Precision\n",
            "                                         Model  Accuracy  F1 Score  Precision  \\\n",
            "1      RandomForestClassifier(random_state=42)  0.756662  0.396130   0.373940   \n",
            "2  GradientBoostingClassifier(random_state=42)  0.471270  0.301341   0.201011   \n",
            "0            LogisticRegression(max_iter=1000)  0.521569  0.273979   0.192294   \n",
            "\n",
            "     Recall  \n",
            "1  0.421120  \n",
            "2  0.601627  \n",
            "0  0.476308  \n"
          ]
        }
      ],
      "source": [
        "# por Precision\n",
        "\n",
        "print(\"Comparación de Modelos: Precision\")\n",
        "print(resultados_df.sort_values(by=\"Precision\", ascending=False))"
      ]
    },
    {
      "cell_type": "code",
      "execution_count": 28,
      "metadata": {
        "colab": {
          "base_uri": "https://localhost:8080/"
        },
        "id": "a9RZgX78_oBD",
        "outputId": "93ac1aa7-6d49-4c65-ecf9-9c142181dbde"
      },
      "outputs": [
        {
          "output_type": "stream",
          "name": "stdout",
          "text": [
            "Comparación de Modelos: Recall\n",
            "                                         Model  Accuracy  F1 Score  Precision  \\\n",
            "2  GradientBoostingClassifier(random_state=42)  0.471270  0.301341   0.201011   \n",
            "0            LogisticRegression(max_iter=1000)  0.521569  0.273979   0.192294   \n",
            "1      RandomForestClassifier(random_state=42)  0.756662  0.396130   0.373940   \n",
            "\n",
            "     Recall  \n",
            "2  0.601627  \n",
            "0  0.476308  \n",
            "1  0.421120  \n"
          ]
        }
      ],
      "source": [
        "# por Recall\n",
        "\n",
        "print(\"Comparación de Modelos: Recall\")\n",
        "print(resultados_df.sort_values(by=\"Recall\", ascending=False))"
      ]
    },
    {
      "cell_type": "markdown",
      "metadata": {
        "id": "MGEchrsgw_rZ"
      },
      "source": [
        "El modelo debe quedar como\n",
        "\n",
        "/flight_delay_prediction\n",
        "    ├── app.py                   # Archivo principal para la API\n",
        "    ├── model.pkl                # Modelo entrenado guardado\n",
        "    ├── requirements.txt         # Lista de dependencias\n",
        "    └── data/                    # Carpeta para datos (opcional)"
      ]
    },
    {
      "cell_type": "code",
      "execution_count": 29,
      "metadata": {
        "colab": {
          "base_uri": "https://localhost:8080/"
        },
        "id": "Izrh7z2RrqQ5",
        "outputId": "c89cec9a-4b2f-4398-93eb-02facbaa91ab"
      },
      "outputs": [
        {
          "output_type": "stream",
          "name": "stdout",
          "text": [
            "Requirement already satisfied: flask in /usr/local/lib/python3.10/dist-packages (3.1.0)\n",
            "Requirement already satisfied: scikit-learn in /usr/local/lib/python3.10/dist-packages (1.6.0)\n",
            "Requirement already satisfied: joblib in /usr/local/lib/python3.10/dist-packages (1.4.2)\n",
            "Requirement already satisfied: gdown in /usr/local/lib/python3.10/dist-packages (5.2.0)\n",
            "Requirement already satisfied: Werkzeug>=3.1 in /usr/local/lib/python3.10/dist-packages (from flask) (3.1.3)\n",
            "Requirement already satisfied: Jinja2>=3.1.2 in /usr/local/lib/python3.10/dist-packages (from flask) (3.1.4)\n",
            "Requirement already satisfied: itsdangerous>=2.2 in /usr/local/lib/python3.10/dist-packages (from flask) (2.2.0)\n",
            "Requirement already satisfied: click>=8.1.3 in /usr/local/lib/python3.10/dist-packages (from flask) (8.1.7)\n",
            "Requirement already satisfied: blinker>=1.9 in /usr/local/lib/python3.10/dist-packages (from flask) (1.9.0)\n",
            "Requirement already satisfied: numpy>=1.19.5 in /usr/local/lib/python3.10/dist-packages (from scikit-learn) (1.26.4)\n",
            "Requirement already satisfied: scipy>=1.6.0 in /usr/local/lib/python3.10/dist-packages (from scikit-learn) (1.13.1)\n",
            "Requirement already satisfied: threadpoolctl>=3.1.0 in /usr/local/lib/python3.10/dist-packages (from scikit-learn) (3.5.0)\n",
            "Requirement already satisfied: beautifulsoup4 in /usr/local/lib/python3.10/dist-packages (from gdown) (4.12.3)\n",
            "Requirement already satisfied: filelock in /usr/local/lib/python3.10/dist-packages (from gdown) (3.16.1)\n",
            "Requirement already satisfied: requests[socks] in /usr/local/lib/python3.10/dist-packages (from gdown) (2.32.3)\n",
            "Requirement already satisfied: tqdm in /usr/local/lib/python3.10/dist-packages (from gdown) (4.67.1)\n",
            "Requirement already satisfied: MarkupSafe>=2.0 in /usr/local/lib/python3.10/dist-packages (from Jinja2>=3.1.2->flask) (3.0.2)\n",
            "Requirement already satisfied: soupsieve>1.2 in /usr/local/lib/python3.10/dist-packages (from beautifulsoup4->gdown) (2.6)\n",
            "Requirement already satisfied: charset-normalizer<4,>=2 in /usr/local/lib/python3.10/dist-packages (from requests[socks]->gdown) (3.4.0)\n",
            "Requirement already satisfied: idna<4,>=2.5 in /usr/local/lib/python3.10/dist-packages (from requests[socks]->gdown) (3.10)\n",
            "Requirement already satisfied: urllib3<3,>=1.21.1 in /usr/local/lib/python3.10/dist-packages (from requests[socks]->gdown) (2.2.3)\n",
            "Requirement already satisfied: certifi>=2017.4.17 in /usr/local/lib/python3.10/dist-packages (from requests[socks]->gdown) (2024.12.14)\n",
            "Requirement already satisfied: PySocks!=1.5.7,>=1.5.6 in /usr/local/lib/python3.10/dist-packages (from requests[socks]->gdown) (1.7.1)\n"
          ]
        }
      ],
      "source": [
        "!pip install flask scikit-learn joblib gdown"
      ]
    },
    {
      "cell_type": "code",
      "execution_count": 30,
      "metadata": {
        "colab": {
          "base_uri": "https://localhost:8080/"
        },
        "id": "DicBNEE1wRRh",
        "outputId": "b2622c06-96eb-4617-fa45-c8420ea48855"
      },
      "outputs": [
        {
          "output_type": "execute_result",
          "data": {
            "text/plain": [
              "['model.pkl']"
            ]
          },
          "metadata": {},
          "execution_count": 30
        }
      ],
      "source": [
        "import joblib\n",
        "\n",
        "# Guardar el mejor modelo (Random Forest)\n",
        "joblib.dump(model_rf, 'model.pkl')"
      ]
    },
    {
      "cell_type": "code",
      "execution_count": null,
      "metadata": {
        "colab": {
          "base_uri": "https://localhost:8080/"
        },
        "id": "v3Z5dYdnu-yy",
        "outputId": "05443244-01e2-4f8d-d38f-56c8b045dc39"
      },
      "outputs": [
        {
          "output_type": "stream",
          "name": "stdout",
          "text": [
            " * Serving Flask app '__main__'\n",
            " * Debug mode: on\n"
          ]
        },
        {
          "output_type": "stream",
          "name": "stderr",
          "text": [
            "INFO:werkzeug:\u001b[31m\u001b[1mWARNING: This is a development server. Do not use it in a production deployment. Use a production WSGI server instead.\u001b[0m\n",
            " * Running on http://127.0.0.1:5000\n",
            "INFO:werkzeug:\u001b[33mPress CTRL+C to quit\u001b[0m\n",
            "INFO:werkzeug: * Restarting with stat\n"
          ]
        }
      ],
      "source": [
        "from flask import Flask, request, jsonify\n",
        "import os\n",
        "\n",
        "app = Flask(__name__)\n",
        "\n",
        "# Cargar el modelo entrenado\n",
        "model_path = os.path.join(os.getcwd(), 'model.pkl')  # Asegúrate de que este sea el path correcto\n",
        "model = joblib.load(model_path)\n",
        "\n",
        "@app.route('/predict', methods=['POST'])\n",
        "def predict():\n",
        "    # Obtener los datos del cuerpo de la solicitud\n",
        "    data = request.get_json(force=True)\n",
        "\n",
        "    # Asegúrate de que los datos recibidos sean correctos (ajusta según tus características)\n",
        "    features = np.array(data['features']).reshape(1, -1)  # Ajusta según las características esperadas\n",
        "\n",
        "    # Realizar la predicción\n",
        "    prediction = model.predict(features)\n",
        "\n",
        "    return jsonify({'prediction': bool(prediction[0])})\n",
        "\n",
        "if __name__ == '__main__':\n",
        "    app.run(debug=True)"
      ]
    },
    {
      "cell_type": "code",
      "execution_count": null,
      "metadata": {
        "id": "nU2fYz3Lwy0k"
      },
      "outputs": [],
      "source": [
        "python app.py"
      ]
    },
    {
      "cell_type": "code",
      "execution_count": null,
      "metadata": {
        "id": "TvLt38nKw0Py"
      },
      "outputs": [],
      "source": [
        "curl -X POST http://127.0.0.1:5000/predict -H \"Content-Type: application/json\" -d '{\"features\": [value1, value2, value3, ...]}'"
      ]
    }
  ],
  "metadata": {
    "accelerator": "GPU",
    "colab": {
      "gpuType": "T4",
      "toc_visible": true,
      "provenance": []
    },
    "kernelspec": {
      "display_name": "Python 3",
      "name": "python3"
    },
    "language_info": {
      "name": "python"
    }
  },
  "nbformat": 4,
  "nbformat_minor": 0
}