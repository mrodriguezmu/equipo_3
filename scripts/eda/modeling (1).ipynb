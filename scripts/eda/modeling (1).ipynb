{
  "nbformat": 4,
  "nbformat_minor": 0,
  "metadata": {
    "colab": {
      "provenance": [],
      "gpuType": "T4",
      "toc_visible": true
    },
    "kernelspec": {
      "name": "python3",
      "display_name": "Python 3"
    },
    "language_info": {
      "name": "python"
    },
    "accelerator": "GPU"
  },
  "cells": [
    {
      "cell_type": "code",
      "execution_count": 1,
      "metadata": {
        "id": "zi_rRlF2W3k-"
      },
      "outputs": [],
      "source": [
        "import pandas as pd\n",
        "import numpy as np\n",
        "from sklearn.model_selection import train_test_split, GridSearchCV\n",
        "from sklearn.preprocessing import StandardScaler, OneHotEncoder\n",
        "from sklearn.compose import ColumnTransformer\n",
        "from sklearn.ensemble import RandomForestClassifier, GradientBoostingClassifier\n",
        "from sklearn.linear_model import LogisticRegression\n",
        "from sklearn.svm import SVC\n",
        "from sklearn.neighbors import KNeighborsClassifier\n",
        "from sklearn.metrics import classification_report, roc_auc_score, f1_score, accuracy_score, precision_score, recall_score\n",
        "from sklearn.decomposition import PCA\n",
        "from sklearn.feature_selection import SelectKBest, f_classif\n"
      ]
    },
    {
      "cell_type": "code",
      "source": [
        "from google.colab import drive\n",
        "drive.mount('/content/drive')"
      ],
      "metadata": {
        "colab": {
          "base_uri": "https://localhost:8080/"
        },
        "id": "PwxNfMMqb-ig",
        "outputId": "971f101a-564f-4fd6-8dc3-2632c116d7e4"
      },
      "execution_count": 2,
      "outputs": [
        {
          "output_type": "stream",
          "name": "stdout",
          "text": [
            "Drive already mounted at /content/drive; to attempt to forcibly remount, call drive.mount(\"/content/drive\", force_remount=True).\n"
          ]
        }
      ]
    },
    {
      "cell_type": "code",
      "source": [
        "# llamamos la base preprocesada\n",
        "\n",
        "import pandas as pd\n",
        "data = pd.read_csv('/content/drive/MyDrive/proyecto/flights_preprocess.csv')"
      ],
      "metadata": {
        "id": "9dIAtcqycHTN"
      },
      "execution_count": 3,
      "outputs": []
    },
    {
      "cell_type": "code",
      "source": [
        "# debido al tamaño de los datos, con el objetivo de optimizar recursos, vamos a trabajar con una muestra\n",
        "\n",
        "data = data.sample(frac=0.1, random_state=42)"
      ],
      "metadata": {
        "id": "KC2OT8zYdg7k"
      },
      "execution_count": 4,
      "outputs": []
    },
    {
      "cell_type": "code",
      "source": [
        "data.info()"
      ],
      "metadata": {
        "colab": {
          "base_uri": "https://localhost:8080/"
        },
        "id": "xgbhZiXvoRJW",
        "outputId": "3c4b7e9f-ead7-4096-8c4d-d14ccdb75ec4"
      },
      "execution_count": 5,
      "outputs": [
        {
          "output_type": "stream",
          "name": "stdout",
          "text": [
            "<class 'pandas.core.frame.DataFrame'>\n",
            "Index: 557862 entries, 3155306 to 2603752\n",
            "Data columns (total 54 columns):\n",
            " #   Column                                   Non-Null Count   Dtype  \n",
            "---  ------                                   --------------   -----  \n",
            " 0   FlightDate                               557862 non-null  object \n",
            " 1   Airline                                  557862 non-null  int64  \n",
            " 2   Origin                                   557862 non-null  int64  \n",
            " 3   Dest                                     557862 non-null  int64  \n",
            " 4   CRSDepTime                               557862 non-null  int64  \n",
            " 5   DepTime                                  557862 non-null  int64  \n",
            " 6   DepDelayMinutes                          557862 non-null  float64\n",
            " 7   DepDelay                                 557862 non-null  float64\n",
            " 8   ArrTime                                  557862 non-null  int64  \n",
            " 9   ArrDelayMinutes                          557862 non-null  float64\n",
            " 10  AirTime                                  557862 non-null  float64\n",
            " 11  CRSElapsedTime                           557862 non-null  float64\n",
            " 12  ActualElapsedTime                        557862 non-null  float64\n",
            " 13  Distance                                 557862 non-null  float64\n",
            " 14  Year                                     557862 non-null  int64  \n",
            " 15  Month                                    557862 non-null  int64  \n",
            " 16  DayofMonth                               557862 non-null  int64  \n",
            " 17  DayOfWeek                                557862 non-null  int64  \n",
            " 18  Operated_or_Branded_Code_Share_Partners  557862 non-null  int64  \n",
            " 19  DOT_ID_Marketing_Airline                 557862 non-null  int64  \n",
            " 20  Flight_Number_Marketing_Airline          557862 non-null  int64  \n",
            " 21  Operating_Airline                        557862 non-null  int64  \n",
            " 22  DOT_ID_Operating_Airline                 557862 non-null  int64  \n",
            " 23  Tail_Number                              557862 non-null  int64  \n",
            " 24  Flight_Number_Operating_Airline          557862 non-null  int64  \n",
            " 25  OriginAirportID                          557862 non-null  int64  \n",
            " 26  OriginAirportSeqID                       557862 non-null  int64  \n",
            " 27  OriginCityMarketID                       557862 non-null  int64  \n",
            " 28  OriginCityName                           557862 non-null  int64  \n",
            " 29  OriginState                              557862 non-null  int64  \n",
            " 30  OriginStateFips                          557862 non-null  int64  \n",
            " 31  OriginWac                                557862 non-null  int64  \n",
            " 32  DestAirportID                            557862 non-null  int64  \n",
            " 33  DestAirportSeqID                         557862 non-null  int64  \n",
            " 34  DestCityMarketID                         557862 non-null  int64  \n",
            " 35  DestCityName                             557862 non-null  int64  \n",
            " 36  DestState                                557862 non-null  int64  \n",
            " 37  DestStateFips                            557862 non-null  int64  \n",
            " 38  DestStateName                            557862 non-null  int64  \n",
            " 39  DestWac                                  557862 non-null  int64  \n",
            " 40  DepDel15                                 557862 non-null  float64\n",
            " 41  DepartureDelayGroups                     557862 non-null  float64\n",
            " 42  DepTimeBlk                               557862 non-null  int64  \n",
            " 43  TaxiOut                                  557862 non-null  float64\n",
            " 44  WheelsOff                                557862 non-null  float64\n",
            " 45  WheelsOn                                 557862 non-null  float64\n",
            " 46  TaxiIn                                   557862 non-null  float64\n",
            " 47  CRSArrTime                               557862 non-null  int64  \n",
            " 48  ArrDelay                                 557862 non-null  float64\n",
            " 49  ArrDel15                                 557862 non-null  float64\n",
            " 50  ArrivalDelayGroups                       557862 non-null  float64\n",
            " 51  ArrTimeBlk                               557862 non-null  int64  \n",
            " 52  DistanceGroup                            557862 non-null  int64  \n",
            " 53  Arr_Delayed                              557862 non-null  bool   \n",
            "dtypes: bool(1), float64(16), int64(36), object(1)\n",
            "memory usage: 230.4+ MB\n"
          ]
        }
      ]
    },
    {
      "cell_type": "code",
      "source": [
        "# definimos nuestras variables explicativas y objetivo (Arr_Delayed - si los vuelos se retrasaron o no)\n",
        "\n",
        "X = data.drop(columns=['Arr_Delayed', 'FlightDate'])\n",
        "y = data['Arr_Delayed']"
      ],
      "metadata": {
        "id": "ZEs38-exduZu"
      },
      "execution_count": 6,
      "outputs": []
    },
    {
      "cell_type": "code",
      "source": [
        "# Dividimos los datos en conjuntos de entrenamiento y prueba\n",
        "X_train, X_test, y_train, y_test = train_test_split(X, y, test_size=0.2, random_state=42)"
      ],
      "metadata": {
        "id": "DYxiCk3gepl8"
      },
      "execution_count": 7,
      "outputs": []
    },
    {
      "cell_type": "code",
      "source": [
        "# sabemos que existe un desbalanceo en las etiquetas (muy pocos vuelos llegan retrasados). Por ello, vamos a\n",
        "# balancear generando ejemplos sinteticos de vuelos atrasados por medio de SMOTE\n",
        "\n",
        "from imblearn.over_sampling import SMOTE\n",
        "\n",
        "smote = SMOTE(random_state=42)\n",
        "X_train, y_train = smote.fit_resample(X_train, y_train)"
      ],
      "metadata": {
        "colab": {
          "base_uri": "https://localhost:8080/"
        },
        "id": "7kr4-UfzpJfE",
        "outputId": "d6eb813f-a194-4d7e-9f93-365db63150ed"
      },
      "execution_count": 8,
      "outputs": [
        {
          "output_type": "stream",
          "name": "stderr",
          "text": [
            "/usr/local/lib/python3.10/dist-packages/sklearn/base.py:474: FutureWarning: `BaseEstimator._validate_data` is deprecated in 1.6 and will be removed in 1.7. Use `sklearn.utils.validation.validate_data` instead. This function becomes public and is part of the scikit-learn developer API.\n",
            "  warnings.warn(\n",
            "/usr/local/lib/python3.10/dist-packages/sklearn/utils/_tags.py:354: FutureWarning: The SMOTE or classes from which it inherits use `_get_tags` and `_more_tags`. Please define the `__sklearn_tags__` method, or inherit from `sklearn.base.BaseEstimator` and/or other appropriate mixins such as `sklearn.base.TransformerMixin`, `sklearn.base.ClassifierMixin`, `sklearn.base.RegressorMixin`, and `sklearn.base.OutlierMixin`. From scikit-learn 1.7, not defining `__sklearn_tags__` will raise an error.\n",
            "  warnings.warn(\n"
          ]
        }
      ]
    },
    {
      "cell_type": "code",
      "source": [
        "# verificamos\n",
        "\n",
        "print(pd.Series(y_train).value_counts())"
      ],
      "metadata": {
        "colab": {
          "base_uri": "https://localhost:8080/"
        },
        "id": "ijimcz5BpbWm",
        "outputId": "af5554fa-d910-49f6-a3ab-14f1ae4effb1"
      },
      "execution_count": 9,
      "outputs": [
        {
          "output_type": "stream",
          "name": "stdout",
          "text": [
            "Arr_Delayed\n",
            "False    362250\n",
            "True     362250\n",
            "Name: count, dtype: int64\n"
          ]
        }
      ]
    },
    {
      "cell_type": "code",
      "source": [
        "# vamos a reducir la dimensionalidad de nuestras caracteristicas por medio de componentes principales (PCA)\n",
        "\n",
        "pca = PCA(n_components= 3)\n",
        "X_train_pca = pca.fit_transform(X_train)\n",
        "X_test_pca = pca.transform(X_test)"
      ],
      "metadata": {
        "id": "q3mGibR9e7tG"
      },
      "execution_count": 10,
      "outputs": []
    },
    {
      "cell_type": "code",
      "source": [
        "# ahora vamos a entrenar distintos modelos. Nuestro baseline model va a ser una regresión logística, mientras que los demás modelos que entrenaremos serán:\n",
        "# Random Forest, Gradient Boosting, Support Vector Machine\n",
        "\n",
        "model_log = LogisticRegression(max_iter=1000).fit(X_train_pca, y_train)\n",
        "model_rf = RandomForestClassifier(random_state=42).fit(X_train_pca, y_train)\n"
      ],
      "metadata": {
        "id": "GuYxaX0zo7LH"
      },
      "execution_count": 11,
      "outputs": []
    },
    {
      "cell_type": "code",
      "source": [
        "model_gb = GradientBoostingClassifier(random_state=42).fit(X_train_pca, y_train)"
      ],
      "metadata": {
        "id": "YK730PDU6r6v"
      },
      "execution_count": 12,
      "outputs": []
    },
    {
      "cell_type": "code",
      "source": [
        "# model_svm = SVC(random_state=42).fit(X_train_pca, y_train)"
      ],
      "metadata": {
        "id": "rtAi-xrJ9bcc"
      },
      "execution_count": 13,
      "outputs": []
    },
    {
      "cell_type": "code",
      "source": [
        "# definimos una funcion para generar las métricas\n",
        "\n",
        "def metricas(model):\n",
        "    y_pred = model.predict(X_test_pca)\n",
        "    metrics = {\n",
        "        \"Model\": \"{}\".format(model),\n",
        "        \"Accuracy\": accuracy_score(y_test, y_pred),\n",
        "        \"F1 Score\": f1_score(y_test, y_pred),\n",
        "        \"Precision\": precision_score(y_test, y_pred),\n",
        "        \"Recall\": recall_score(y_test, y_pred)\n",
        "    }\n",
        "    return metrics"
      ],
      "metadata": {
        "id": "C74gtVVsvxCD"
      },
      "execution_count": 14,
      "outputs": []
    },
    {
      "cell_type": "code",
      "source": [
        "# usemos la funcion con los distintos modelos y generemos una lista\n",
        "\n",
        "resultados = []\n",
        "metrica_log = metricas(model_log)\n",
        "metrica_rf = metricas(model_rf)\n",
        "metrica_gb = metricas(model_gb)\n",
        "#metrica_svm = metricas(model_svm)\n",
        "resultados.append(metrica_log)\n",
        "resultados.append(metrica_rf)\n",
        "resultados.append(metrica_gb)\n",
        "# resultados.append(metrica_svm)"
      ],
      "metadata": {
        "id": "Z6MqFsfI-tN7"
      },
      "execution_count": 15,
      "outputs": []
    },
    {
      "cell_type": "code",
      "source": [
        "# vamos a comparar los modelos según las distintas metricas:\n",
        "\n",
        "resultados_df = pd.DataFrame(resultados)\n",
        "\n",
        "# por accuracy\n",
        "\n",
        "print(\"Comparación de Modelos: Accuracy\")\n",
        "print(resultados_df.sort_values(by=\"Accuracy\", ascending=False))"
      ],
      "metadata": {
        "id": "smoHEo259wtu",
        "colab": {
          "base_uri": "https://localhost:8080/"
        },
        "outputId": "5697f6dd-c6ec-492d-d644-c793b78eb3f8"
      },
      "execution_count": 16,
      "outputs": [
        {
          "output_type": "stream",
          "name": "stdout",
          "text": [
            "Comparación de Modelos: Accuracy\n",
            "                                         Model  Accuracy  F1 Score  Precision  \\\n",
            "1      RandomForestClassifier(random_state=42)  0.756662  0.396130   0.373940   \n",
            "0            LogisticRegression(max_iter=1000)  0.521569  0.273979   0.192294   \n",
            "2  GradientBoostingClassifier(random_state=42)  0.471270  0.301341   0.201011   \n",
            "\n",
            "     Recall  \n",
            "1  0.421120  \n",
            "0  0.476308  \n",
            "2  0.601627  \n"
          ]
        }
      ]
    },
    {
      "cell_type": "code",
      "source": [
        "# por F1 Score\n",
        "\n",
        "print(\"Comparación de Modelos: F1 Score\")\n",
        "print(resultados_df.sort_values(by=\"F1 Score\", ascending=False))"
      ],
      "metadata": {
        "id": "Aokf7cE5_YnL",
        "colab": {
          "base_uri": "https://localhost:8080/"
        },
        "outputId": "9a4dfffd-a260-457e-dbe5-a5f711511d11"
      },
      "execution_count": 17,
      "outputs": [
        {
          "output_type": "stream",
          "name": "stdout",
          "text": [
            "Comparación de Modelos: F1 Score\n",
            "                                         Model  Accuracy  F1 Score  Precision  \\\n",
            "1      RandomForestClassifier(random_state=42)  0.756662  0.396130   0.373940   \n",
            "2  GradientBoostingClassifier(random_state=42)  0.471270  0.301341   0.201011   \n",
            "0            LogisticRegression(max_iter=1000)  0.521569  0.273979   0.192294   \n",
            "\n",
            "     Recall  \n",
            "1  0.421120  \n",
            "2  0.601627  \n",
            "0  0.476308  \n"
          ]
        }
      ]
    },
    {
      "cell_type": "code",
      "source": [
        "# por Precision\n",
        "\n",
        "print(\"Comparación de Modelos: Precision\")\n",
        "print(resultados_df.sort_values(by=\"Precision\", ascending=False))"
      ],
      "metadata": {
        "id": "HWYpJ24d_g6Z",
        "colab": {
          "base_uri": "https://localhost:8080/"
        },
        "outputId": "02a8c2c7-59f2-49c9-a39a-35d8ee5b1af5"
      },
      "execution_count": 18,
      "outputs": [
        {
          "output_type": "stream",
          "name": "stdout",
          "text": [
            "Comparación de Modelos: Precision\n",
            "                                         Model  Accuracy  F1 Score  Precision  \\\n",
            "1      RandomForestClassifier(random_state=42)  0.756662  0.396130   0.373940   \n",
            "2  GradientBoostingClassifier(random_state=42)  0.471270  0.301341   0.201011   \n",
            "0            LogisticRegression(max_iter=1000)  0.521569  0.273979   0.192294   \n",
            "\n",
            "     Recall  \n",
            "1  0.421120  \n",
            "2  0.601627  \n",
            "0  0.476308  \n"
          ]
        }
      ]
    },
    {
      "cell_type": "code",
      "source": [
        "# por Recall\n",
        "\n",
        "print(\"Comparación de Modelos: Recall\")\n",
        "print(resultados_df.sort_values(by=\"Recall\", ascending=False))"
      ],
      "metadata": {
        "id": "a9RZgX78_oBD",
        "colab": {
          "base_uri": "https://localhost:8080/"
        },
        "outputId": "6d3d42de-36e3-4277-fb5b-aca992243af1"
      },
      "execution_count": 19,
      "outputs": [
        {
          "output_type": "stream",
          "name": "stdout",
          "text": [
            "Comparación de Modelos: Recall\n",
            "                                         Model  Accuracy  F1 Score  Precision  \\\n",
            "2  GradientBoostingClassifier(random_state=42)  0.471270  0.301341   0.201011   \n",
            "0            LogisticRegression(max_iter=1000)  0.521569  0.273979   0.192294   \n",
            "1      RandomForestClassifier(random_state=42)  0.756662  0.396130   0.373940   \n",
            "\n",
            "     Recall  \n",
            "2  0.601627  \n",
            "0  0.476308  \n",
            "1  0.421120  \n"
          ]
        }
      ]
    }
  ]
}