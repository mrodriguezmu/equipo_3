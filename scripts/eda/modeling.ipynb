{
  "nbformat": 4,
  "nbformat_minor": 0,
  "metadata": {
    "colab": {
      "provenance": [],
      "gpuType": "T4"
    },
    "kernelspec": {
      "name": "python3",
      "display_name": "Python 3"
    },
    "language_info": {
      "name": "python"
    },
    "accelerator": "GPU"
  },
  "cells": [
    {
      "cell_type": "code",
      "execution_count": 14,
      "metadata": {
        "id": "zi_rRlF2W3k-"
      },
      "outputs": [],
      "source": [
        "import pandas as pd\n",
        "import numpy as np\n",
        "from sklearn.model_selection import train_test_split, GridSearchCV\n",
        "from sklearn.preprocessing import StandardScaler, OneHotEncoder\n",
        "from sklearn.compose import ColumnTransformer\n",
        "from sklearn.ensemble import RandomForestClassifier, GradientBoostingClassifier\n",
        "from sklearn.linear_model import LogisticRegression\n",
        "from sklearn.svm import SVC\n",
        "from sklearn.neighbors import KNeighborsClassifier\n",
        "from sklearn.metrics import classification_report, roc_auc_score, f1_score, accuracy_score, precision_score, recall_score\n",
        "from sklearn.decomposition import PCA\n",
        "from sklearn.feature_selection import SelectKBest, f_classif\n"
      ]
    },
    {
      "cell_type": "code",
      "source": [
        "from google.colab import drive\n",
        "drive.mount('/content/drive')"
      ],
      "metadata": {
        "colab": {
          "base_uri": "https://localhost:8080/"
        },
        "id": "PwxNfMMqb-ig",
        "outputId": "e7d9a898-558c-46cd-b629-e86b6ae87d49"
      },
      "execution_count": 15,
      "outputs": [
        {
          "output_type": "stream",
          "name": "stdout",
          "text": [
            "Drive already mounted at /content/drive; to attempt to forcibly remount, call drive.mount(\"/content/drive\", force_remount=True).\n"
          ]
        }
      ]
    },
    {
      "cell_type": "code",
      "source": [
        "# llamamos la base preprocesada\n",
        "\n",
        "import pandas as pd\n",
        "data = pd.read_csv('/content/drive/MyDrive/proyecto/flights_preprocess.csv')"
      ],
      "metadata": {
        "id": "9dIAtcqycHTN"
      },
      "execution_count": 3,
      "outputs": []
    },
    {
      "cell_type": "code",
      "source": [
        "# debido al tamaño de los datos, con el objetivo d eoptimizar recursos, vamos a trabajar con una muestra\n",
        "\n",
        "data = data.sample(frac=0.1, random_state=42)"
      ],
      "metadata": {
        "id": "KC2OT8zYdg7k"
      },
      "execution_count": 16,
      "outputs": []
    },
    {
      "cell_type": "code",
      "source": [
        "data.info()"
      ],
      "metadata": {
        "colab": {
          "base_uri": "https://localhost:8080/"
        },
        "id": "xgbhZiXvoRJW",
        "outputId": "03a8238f-a333-45ae-8b13-53abe2381637"
      },
      "execution_count": 17,
      "outputs": [
        {
          "output_type": "stream",
          "name": "stdout",
          "text": [
            "<class 'pandas.core.frame.DataFrame'>\n",
            "Index: 55786 entries, 436507 to 4865826\n",
            "Data columns (total 54 columns):\n",
            " #   Column                                   Non-Null Count  Dtype  \n",
            "---  ------                                   --------------  -----  \n",
            " 0   FlightDate                               55786 non-null  object \n",
            " 1   Airline                                  55786 non-null  int64  \n",
            " 2   Origin                                   55786 non-null  int64  \n",
            " 3   Dest                                     55786 non-null  int64  \n",
            " 4   CRSDepTime                               55786 non-null  int64  \n",
            " 5   DepTime                                  55786 non-null  int64  \n",
            " 6   DepDelayMinutes                          55786 non-null  float64\n",
            " 7   DepDelay                                 55786 non-null  float64\n",
            " 8   ArrTime                                  55786 non-null  int64  \n",
            " 9   ArrDelayMinutes                          55786 non-null  float64\n",
            " 10  AirTime                                  55786 non-null  float64\n",
            " 11  CRSElapsedTime                           55786 non-null  float64\n",
            " 12  ActualElapsedTime                        55786 non-null  float64\n",
            " 13  Distance                                 55786 non-null  float64\n",
            " 14  Year                                     55786 non-null  int64  \n",
            " 15  Month                                    55786 non-null  int64  \n",
            " 16  DayofMonth                               55786 non-null  int64  \n",
            " 17  DayOfWeek                                55786 non-null  int64  \n",
            " 18  Operated_or_Branded_Code_Share_Partners  55786 non-null  int64  \n",
            " 19  DOT_ID_Marketing_Airline                 55786 non-null  int64  \n",
            " 20  Flight_Number_Marketing_Airline          55786 non-null  int64  \n",
            " 21  Operating_Airline                        55786 non-null  int64  \n",
            " 22  DOT_ID_Operating_Airline                 55786 non-null  int64  \n",
            " 23  Tail_Number                              55786 non-null  int64  \n",
            " 24  Flight_Number_Operating_Airline          55786 non-null  int64  \n",
            " 25  OriginAirportID                          55786 non-null  int64  \n",
            " 26  OriginAirportSeqID                       55786 non-null  int64  \n",
            " 27  OriginCityMarketID                       55786 non-null  int64  \n",
            " 28  OriginCityName                           55786 non-null  int64  \n",
            " 29  OriginState                              55786 non-null  int64  \n",
            " 30  OriginStateFips                          55786 non-null  int64  \n",
            " 31  OriginWac                                55786 non-null  int64  \n",
            " 32  DestAirportID                            55786 non-null  int64  \n",
            " 33  DestAirportSeqID                         55786 non-null  int64  \n",
            " 34  DestCityMarketID                         55786 non-null  int64  \n",
            " 35  DestCityName                             55786 non-null  int64  \n",
            " 36  DestState                                55786 non-null  int64  \n",
            " 37  DestStateFips                            55786 non-null  int64  \n",
            " 38  DestStateName                            55786 non-null  int64  \n",
            " 39  DestWac                                  55786 non-null  int64  \n",
            " 40  DepDel15                                 55786 non-null  float64\n",
            " 41  DepartureDelayGroups                     55786 non-null  float64\n",
            " 42  DepTimeBlk                               55786 non-null  int64  \n",
            " 43  TaxiOut                                  55786 non-null  float64\n",
            " 44  WheelsOff                                55786 non-null  float64\n",
            " 45  WheelsOn                                 55786 non-null  float64\n",
            " 46  TaxiIn                                   55786 non-null  float64\n",
            " 47  CRSArrTime                               55786 non-null  int64  \n",
            " 48  ArrDelay                                 55786 non-null  float64\n",
            " 49  ArrDel15                                 55786 non-null  float64\n",
            " 50  ArrivalDelayGroups                       55786 non-null  float64\n",
            " 51  ArrTimeBlk                               55786 non-null  int64  \n",
            " 52  DistanceGroup                            55786 non-null  int64  \n",
            " 53  Arr_Delayed                              55786 non-null  bool   \n",
            "dtypes: bool(1), float64(16), int64(36), object(1)\n",
            "memory usage: 23.0+ MB\n"
          ]
        }
      ]
    },
    {
      "cell_type": "code",
      "source": [
        "# definimos nuestras variables explicativas y objetivo (Arr_Delayed - si los vuelos se retrasaron o no)\n",
        "\n",
        "X = data.drop(columns=['Arr_Delayed', 'FlightDate'])\n",
        "y = data['Arr_Delayed']"
      ],
      "metadata": {
        "id": "ZEs38-exduZu"
      },
      "execution_count": 18,
      "outputs": []
    },
    {
      "cell_type": "code",
      "source": [
        "# Dividimos los datos en conjuntos de entrenamiento y prueba\n",
        "X_train, X_test, y_train, y_test = train_test_split(X, y, test_size=0.2, random_state=42)"
      ],
      "metadata": {
        "id": "DYxiCk3gepl8"
      },
      "execution_count": 19,
      "outputs": []
    },
    {
      "cell_type": "code",
      "source": [
        "# vamos a reducir la dimensionalidad de nuestras caracteristicas por medio de componentes principales (PCA)\n",
        "\n",
        "pca = PCA(n_components= 3)\n",
        "X_train_pca = pca.fit_transform(X_train)\n",
        "X_test_pca = pca.transform(X_test)"
      ],
      "metadata": {
        "id": "q3mGibR9e7tG"
      },
      "execution_count": 20,
      "outputs": []
    },
    {
      "cell_type": "code",
      "source": [
        "# ahora vamos a entrenar distintos modelos. Nuestro baseline model va a ser una regresión logística, mientras que los demás modelos que entrenaremos serán:\n",
        "# Random Forest, Gradient Boosting, Support Vector Machine y K-Nearest Neighbors\n",
        "\n",
        "model_log = LogisticRegression(max_iter=1000).fit(X_train_pca, y_train)\n",
        "model_rf = RandomForestClassifier(random_state=42).fit(X_train_pca, y_train)\n"
      ],
      "metadata": {
        "id": "GuYxaX0zo7LH"
      },
      "execution_count": 21,
      "outputs": []
    },
    {
      "cell_type": "code",
      "source": [
        "model_gb = GradientBoostingClassifier(random_state=42).fit(X_train_pca, y_train)"
      ],
      "metadata": {
        "id": "YK730PDU6r6v"
      },
      "execution_count": 22,
      "outputs": []
    },
    {
      "cell_type": "code",
      "source": [
        "model_svm = SVC(random_state=42).fit(X_train_pca, y_train)"
      ],
      "metadata": {
        "id": "rtAi-xrJ9bcc"
      },
      "execution_count": 23,
      "outputs": []
    },
    {
      "cell_type": "code",
      "source": [
        "# definimos una funcion para generar las métricas\n",
        "\n",
        "def metricas(model):\n",
        "    y_pred = model.predict(X_test_pca)\n",
        "    metrics = {\n",
        "        \"Model\": \"{}\".format(model),\n",
        "        \"Accuracy\": accuracy_score(y_test, y_pred),\n",
        "        \"F1 Score\": f1_score(y_test, y_pred),\n",
        "        \"Precision\": precision_score(y_test, y_pred),\n",
        "        \"Recall\": recall_score(y_test, y_pred)\n",
        "    }\n",
        "    return metrics"
      ],
      "metadata": {
        "id": "C74gtVVsvxCD"
      },
      "execution_count": 34,
      "outputs": []
    },
    {
      "cell_type": "code",
      "source": [
        "# usemos la funcion con los distintos modelos y generemos una lista\n",
        "\n",
        "resultados = []\n",
        "metrica_log = metricas(model_log)\n",
        "metrica_rf = metricas(model_rf)\n",
        "metrica_gb = metricas(model_gb)\n",
        "metrica_svm = metricas(model_svm)\n",
        "resultados.append(metrica_log)\n",
        "resultados.append(metrica_rf)\n",
        "resultados.append(metrica_gb)\n",
        "resultados.append(metrica_svm)"
      ],
      "metadata": {
        "colab": {
          "base_uri": "https://localhost:8080/"
        },
        "id": "Z6MqFsfI-tN7",
        "outputId": "fffeec67-2b0f-4299-84c1-a7e9ab8d0802"
      },
      "execution_count": 35,
      "outputs": [
        {
          "output_type": "stream",
          "name": "stderr",
          "text": [
            "/usr/local/lib/python3.10/dist-packages/sklearn/metrics/_classification.py:1565: UndefinedMetricWarning: Precision is ill-defined and being set to 0.0 due to no predicted samples. Use `zero_division` parameter to control this behavior.\n",
            "  _warn_prf(average, modifier, f\"{metric.capitalize()} is\", len(result))\n",
            "/usr/local/lib/python3.10/dist-packages/sklearn/metrics/_classification.py:1565: UndefinedMetricWarning: Precision is ill-defined and being set to 0.0 due to no predicted samples. Use `zero_division` parameter to control this behavior.\n",
            "  _warn_prf(average, modifier, f\"{metric.capitalize()} is\", len(result))\n"
          ]
        }
      ]
    },
    {
      "cell_type": "code",
      "source": [
        "# vamos a comparar los modelos según las distintas metricas:\n",
        "\n",
        "resultados_df = pd.DataFrame(resultados)\n",
        "\n",
        "# por accuracy\n",
        "\n",
        "print(\"Comparación de Modelos: Accuracy\")\n",
        "print(resultados_df.sort_values(by=\"Accuracy\", ascending=False))"
      ],
      "metadata": {
        "colab": {
          "base_uri": "https://localhost:8080/"
        },
        "id": "smoHEo259wtu",
        "outputId": "d5e4fd4d-6528-44c0-fc7e-84917255477a"
      },
      "execution_count": 36,
      "outputs": [
        {
          "output_type": "stream",
          "name": "stdout",
          "text": [
            "Comparación de Modelos: Accuracy\n",
            "                                         Model  Accuracy  F1 Score  Precision  \\\n",
            "0            LogisticRegression(max_iter=1000)  0.817351  0.000000   0.000000   \n",
            "3                         SVC(random_state=42)  0.817351  0.000000   0.000000   \n",
            "2  GradientBoostingClassifier(random_state=42)  0.817172  0.000000   0.000000   \n",
            "1      RandomForestClassifier(random_state=42)  0.778455  0.157464   0.257812   \n",
            "\n",
            "     Recall  \n",
            "0  0.000000  \n",
            "3  0.000000  \n",
            "2  0.000000  \n",
            "1  0.113346  \n"
          ]
        }
      ]
    },
    {
      "cell_type": "code",
      "source": [
        "# por F1 Score\n",
        "\n",
        "print(\"Comparación de Modelos: F1 Score\")\n",
        "print(resultados_df.sort_values(by=\"F1 Score\", ascending=False))"
      ],
      "metadata": {
        "colab": {
          "base_uri": "https://localhost:8080/"
        },
        "id": "Aokf7cE5_YnL",
        "outputId": "a0c041f9-1e4e-47c6-852a-1e36bad5718b"
      },
      "execution_count": 37,
      "outputs": [
        {
          "output_type": "stream",
          "name": "stdout",
          "text": [
            "Comparación de Modelos: F1 Score\n",
            "                                         Model  Accuracy  F1 Score  Precision  \\\n",
            "1      RandomForestClassifier(random_state=42)  0.778455  0.157464   0.257812   \n",
            "0            LogisticRegression(max_iter=1000)  0.817351  0.000000   0.000000   \n",
            "2  GradientBoostingClassifier(random_state=42)  0.817172  0.000000   0.000000   \n",
            "3                         SVC(random_state=42)  0.817351  0.000000   0.000000   \n",
            "\n",
            "     Recall  \n",
            "1  0.113346  \n",
            "0  0.000000  \n",
            "2  0.000000  \n",
            "3  0.000000  \n"
          ]
        }
      ]
    },
    {
      "cell_type": "code",
      "source": [
        "# por Precision\n",
        "\n",
        "print(\"Comparación de Modelos: Precision\")\n",
        "print(resultados_df.sort_values(by=\"Precision\", ascending=False))"
      ],
      "metadata": {
        "colab": {
          "base_uri": "https://localhost:8080/"
        },
        "id": "HWYpJ24d_g6Z",
        "outputId": "a748f064-32d8-4d90-9122-4114639fcd8f"
      },
      "execution_count": 38,
      "outputs": [
        {
          "output_type": "stream",
          "name": "stdout",
          "text": [
            "Comparación de Modelos: Precision\n",
            "                                         Model  Accuracy  F1 Score  Precision  \\\n",
            "1      RandomForestClassifier(random_state=42)  0.778455  0.157464   0.257812   \n",
            "0            LogisticRegression(max_iter=1000)  0.817351  0.000000   0.000000   \n",
            "2  GradientBoostingClassifier(random_state=42)  0.817172  0.000000   0.000000   \n",
            "3                         SVC(random_state=42)  0.817351  0.000000   0.000000   \n",
            "\n",
            "     Recall  \n",
            "1  0.113346  \n",
            "0  0.000000  \n",
            "2  0.000000  \n",
            "3  0.000000  \n"
          ]
        }
      ]
    },
    {
      "cell_type": "code",
      "source": [
        "# por Recall\n",
        "\n",
        "print(\"Comparación de Modelos: Recall\")\n",
        "print(resultados_df.sort_values(by=\"Recall\", ascending=False))"
      ],
      "metadata": {
        "colab": {
          "base_uri": "https://localhost:8080/"
        },
        "id": "a9RZgX78_oBD",
        "outputId": "c9d50858-f0a3-4bd1-9424-12f358316f66"
      },
      "execution_count": 33,
      "outputs": [
        {
          "output_type": "stream",
          "name": "stdout",
          "text": [
            "Comparación de Modelos: Recall\n",
            "                                               Model  Accuracy  F1 Score  \\\n",
            "1  (DecisionTreeClassifier(max_features='sqrt', r...  0.778455  0.157464   \n",
            "0                  LogisticRegression(max_iter=1000)  0.817351  0.000000   \n",
            "2  ([DecisionTreeRegressor(criterion='friedman_ms...  0.817172  0.000000   \n",
            "3                               SVC(random_state=42)  0.817351  0.000000   \n",
            "\n",
            "   Precision    Recall  \n",
            "1   0.257812  0.113346  \n",
            "0   0.000000  0.000000  \n",
            "2   0.000000  0.000000  \n",
            "3   0.000000  0.000000  \n"
          ]
        }
      ]
    }
  ]
}